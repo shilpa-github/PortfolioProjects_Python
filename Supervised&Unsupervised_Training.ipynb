{
 "cells": [
  {
   "cell_type": "code",
   "execution_count": 1,
   "id": "065ac815",
   "metadata": {},
   "outputs": [],
   "source": [
    "import pyodbc\n",
    "import numpy as np\n",
    "import pandas as pd\n",
    "import warnings\n",
    "import sklearn\n",
    "from sklearn.cluster import KMeans\n",
    "from sklearn.preprocessing import MinMaxScaler\n",
    "from sklearn.ensemble import RandomForestRegressor\n",
    "from sklearn.preprocessing import StandardScaler\n",
    "from sklearn import metrics\n",
    "from sklearn.metrics import mean_squared_error, r2_score, mean_absolute_error\n",
    "from sklearn.model_selection import train_test_split\n",
    "import matplotlib.pyplot as plt\n",
    "from sklearn.metrics import silhouette_score"
   ]
  },
  {
   "cell_type": "code",
   "execution_count": 11,
   "id": "c9c0fa49-dec8-43fa-8aca-9e6e17e52eee",
   "metadata": {},
   "outputs": [],
   "source": [
    "warnings.filterwarnings(\"ignore\")\n",
    "pd.set_option('display.max_columns',100)\n",
    "pd.set_option('display.max_rows', 100)"
   ]
  },
  {
   "cell_type": "code",
   "execution_count": 2,
   "id": "a6d5ed5e-e52d-4bf5-ae17-1f28d8f8792b",
   "metadata": {},
   "outputs": [],
   "source": [
    "def openConnection():\n",
    "    connectionString = '''\n",
    "                       Driver={SQL Server};\n",
    "                       Server=LCB-SQL.uccob.uc.edu\\\\nicholdw;\n",
    "                       Database=GroceryStoreSimulator;\n",
    "                       uid=IS7036Spring2023Login;\n",
    "                       pwd=DogMouseFish42@@;');\n",
    "                       MARS_Connection=Yes\n",
    "                       '''\n",
    "    print(\"Connection String:\", connectionString)\n",
    "    database_conn = pyodbc.connect(connectionString)   \n",
    "    return database_conn"
   ]
  },
  {
   "cell_type": "code",
   "execution_count": 3,
   "id": "017480d3-1561-4961-9499-74a69322d17f",
   "metadata": {},
   "outputs": [
    {
     "data": {
      "text/plain": [
       "['SQL Server', 'ODBC Driver 17 for SQL Server']"
      ]
     },
     "execution_count": 3,
     "metadata": {},
     "output_type": "execute_result"
    }
   ],
   "source": [
    "pyodbc.drivers()"
   ]
  },
  {
   "cell_type": "code",
   "execution_count": 7,
   "id": "557f7747-a38b-483e-af59-89dec2c9435f",
   "metadata": {},
   "outputs": [
    {
     "name": "stdout",
     "output_type": "stream",
     "text": [
      "Connection String: \n",
      "                       Driver={SQL Server};\n",
      "                       Server=LCB-SQL.uccob.uc.edu\\nicholdw;\n",
      "                       Database=GroceryStoreSimulator;\n",
      "                       uid=IS7036Spring2023Login;\n",
      "                       pwd=DogMouseFish42@@;');\n",
      "                       MARS_Connection=Yes\n",
      "                       \n"
     ]
    }
   ],
   "source": [
    "conn = openConnection()"
   ]
  },
  {
   "cell_type": "code",
   "execution_count": 8,
   "id": "5df787f7-d896-41fb-9db1-86d3ab38bfba",
   "metadata": {},
   "outputs": [],
   "source": [
    "cursor = conn.cursor()"
   ]
  },
  {
   "cell_type": "code",
   "execution_count": 9,
   "id": "a30abb63-e189-43a3-91bc-df19e56a84f6",
   "metadata": {},
   "outputs": [
    {
     "name": "stdout",
     "output_type": "stream",
     "text": [
      "sysdiagrams\n",
      "tBrand\n",
      "tConfig\n",
      "tContainer\n",
      "tCountry\n",
      "tCoupon\n",
      "tCouponDetail\n",
      "tCouponSource\n",
      "tDiscountType\n",
      "tEmpl\n",
      "tEmplHistory\n",
      "tEmplStatus\n",
      "tEmplTitle\n",
      "tIngredient\n",
      "tLog\n",
      "tLoyalty\n",
      "tLoyaltyStatus\n",
      "tManufacturer\n",
      "tMethodOfPayment\n",
      "tMonth\n",
      "tName\n",
      "tNumber\n",
      "tOrder\n",
      "tOrderDetail\n",
      "tOrderStatus\n",
      "tProduct\n",
      "tProductIngredient\n",
      "tProductPriceHist\n",
      "tServing_size_UOM\n",
      "tState\n",
      "tStore\n",
      "tStore_StoreComponent\n",
      "tStoreComponent\n",
      "tStoreHistory\n",
      "tStoreStatus\n",
      "tSupplyChain\n",
      "tTransaction\n",
      "tTransactionDetail\n",
      "tTransactionType\n",
      "tUOM\n",
      "trace_xe_action_map\n",
      "trace_xe_event_map\n"
     ]
    }
   ],
   "source": [
    "for row in cursor.tables(tableType='TABLE'):\n",
    "    print(row.table_name)"
   ]
  },
  {
   "cell_type": "code",
   "execution_count": 12,
   "id": "e7861afa-ea22-4b6e-a2f3-139455591396",
   "metadata": {},
   "outputs": [],
   "source": [
    "Transaction = pd.read_sql(\n",
    "    \"SELECT TransactionID, DateOfTransaction, StoreID, LoyaltyID, TransactionTypeID, EmplID, Comment, DateEntered, OrderID FROM tTransaction;\", \n",
    "    conn)"
   ]
  },
  {
   "cell_type": "code",
   "execution_count": 13,
   "id": "60c63eca-857f-4dba-b287-3eccc37cdbdb",
   "metadata": {},
   "outputs": [],
   "source": [
    "TransactionDetail = pd.read_sql(\n",
    "    \"SELECT * FROM tTransactionDetail;\", \n",
    "    conn)"
   ]
  },
  {
   "cell_type": "code",
   "execution_count": 14,
   "id": "eabceb55-fb44-47dd-8111-845e206f1144",
   "metadata": {},
   "outputs": [],
   "source": [
    "Product = pd.read_sql(\n",
    "    \"SELECT * FROM tProduct;\", \n",
    "    conn)"
   ]
  },
  {
   "cell_type": "code",
   "execution_count": 15,
   "id": "acb5803c-9e4b-4c4f-b614-b6de4ee2a324",
   "metadata": {},
   "outputs": [],
   "source": [
    "Brand = pd.read_sql(\n",
    "    \"SELECT * FROM tBrand;\", \n",
    "    conn)"
   ]
  },
  {
   "cell_type": "markdown",
   "id": "8dbb272f",
   "metadata": {},
   "source": [
    "# Unsupervised Learning\n",
    "\n",
    "## Customer Segmentation\n",
    "\n",
    "Customer segmentation is the process of dividing customers into groups based on shared characteristics or behaviors. This is useful for businesses to better understand their customers and to tailor their marketing and sales efforts to specific customer groups.\n",
    "\n",
    "Clustering analysis is a statistical technique that groups data points based on their similarities or dissimilarities. In the context of customer segmentation, clustering analysis can group customers based on various factors, such as demographics, purchase behavior, interests, and more. In the Grocery Store Simulator dataset, we create clusters based on QtyOfProduct, PricePerSellableUnitToTheCustomer and devise different categories of transactions."
   ]
  },
  {
   "cell_type": "code",
   "execution_count": 16,
   "id": "1a0983ad",
   "metadata": {},
   "outputs": [],
   "source": [
    "df = pd.merge(pd.merge(Brand, Product, on='BrandID', how='inner'), TransactionDetail, on='ProductID', how='inner')"
   ]
  },
  {
   "cell_type": "code",
   "execution_count": 17,
   "id": "a17da92e",
   "metadata": {},
   "outputs": [],
   "source": [
    "df2 = TransactionDetail.groupby(by = 'TransactionID')"
   ]
  },
  {
   "cell_type": "code",
   "execution_count": 18,
   "id": "cafffe16",
   "metadata": {},
   "outputs": [],
   "source": [
    "df2 = df2.sum()"
   ]
  },
  {
   "cell_type": "code",
   "execution_count": 19,
   "id": "192dcc61",
   "metadata": {},
   "outputs": [
    {
     "data": {
      "text/html": [
       "<div>\n",
       "<style scoped>\n",
       "    .dataframe tbody tr th:only-of-type {\n",
       "        vertical-align: middle;\n",
       "    }\n",
       "\n",
       "    .dataframe tbody tr th {\n",
       "        vertical-align: top;\n",
       "    }\n",
       "\n",
       "    .dataframe thead th {\n",
       "        text-align: right;\n",
       "    }\n",
       "</style>\n",
       "<table border=\"1\" class=\"dataframe\">\n",
       "  <thead>\n",
       "    <tr style=\"text-align: right;\">\n",
       "      <th></th>\n",
       "      <th>TransactionDetailID</th>\n",
       "      <th>ProductID</th>\n",
       "      <th>QtyOfProduct</th>\n",
       "      <th>PricePerSellableUnitAsMarked</th>\n",
       "      <th>TotalPrice</th>\n",
       "      <th>CouponDetailID</th>\n",
       "      <th>PricePerSellableUnitToTheCustomer</th>\n",
       "    </tr>\n",
       "    <tr>\n",
       "      <th>TransactionID</th>\n",
       "      <th></th>\n",
       "      <th></th>\n",
       "      <th></th>\n",
       "      <th></th>\n",
       "      <th></th>\n",
       "      <th></th>\n",
       "      <th></th>\n",
       "    </tr>\n",
       "  </thead>\n",
       "  <tbody>\n",
       "    <tr>\n",
       "      <th>1</th>\n",
       "      <td>36</td>\n",
       "      <td>1923</td>\n",
       "      <td>17</td>\n",
       "      <td>58.93</td>\n",
       "      <td>140.08</td>\n",
       "      <td>0.0</td>\n",
       "      <td>58.93</td>\n",
       "    </tr>\n",
       "    <tr>\n",
       "      <th>2</th>\n",
       "      <td>342</td>\n",
       "      <td>5404</td>\n",
       "      <td>121</td>\n",
       "      <td>92.01</td>\n",
       "      <td>749.38</td>\n",
       "      <td>0.0</td>\n",
       "      <td>92.01</td>\n",
       "    </tr>\n",
       "    <tr>\n",
       "      <th>3</th>\n",
       "      <td>1275</td>\n",
       "      <td>7154</td>\n",
       "      <td>257</td>\n",
       "      <td>234.11</td>\n",
       "      <td>2265.57</td>\n",
       "      <td>0.0</td>\n",
       "      <td>234.11</td>\n",
       "    </tr>\n",
       "    <tr>\n",
       "      <th>4</th>\n",
       "      <td>2002</td>\n",
       "      <td>6188</td>\n",
       "      <td>167</td>\n",
       "      <td>191.10</td>\n",
       "      <td>1464.59</td>\n",
       "      <td>0.0</td>\n",
       "      <td>191.10</td>\n",
       "    </tr>\n",
       "    <tr>\n",
       "      <th>5</th>\n",
       "      <td>2016</td>\n",
       "      <td>4339</td>\n",
       "      <td>100</td>\n",
       "      <td>156.26</td>\n",
       "      <td>721.33</td>\n",
       "      <td>0.0</td>\n",
       "      <td>156.26</td>\n",
       "    </tr>\n",
       "  </tbody>\n",
       "</table>\n",
       "</div>"
      ],
      "text/plain": [
       "               TransactionDetailID  ProductID  QtyOfProduct  \\\n",
       "TransactionID                                                 \n",
       "1                               36       1923            17   \n",
       "2                              342       5404           121   \n",
       "3                             1275       7154           257   \n",
       "4                             2002       6188           167   \n",
       "5                             2016       4339           100   \n",
       "\n",
       "               PricePerSellableUnitAsMarked  TotalPrice  CouponDetailID  \\\n",
       "TransactionID                                                             \n",
       "1                                     58.93      140.08             0.0   \n",
       "2                                     92.01      749.38             0.0   \n",
       "3                                    234.11     2265.57             0.0   \n",
       "4                                    191.10     1464.59             0.0   \n",
       "5                                    156.26      721.33             0.0   \n",
       "\n",
       "               PricePerSellableUnitToTheCustomer  \n",
       "TransactionID                                     \n",
       "1                                          58.93  \n",
       "2                                          92.01  \n",
       "3                                         234.11  \n",
       "4                                         191.10  \n",
       "5                                         156.26  "
      ]
     },
     "execution_count": 19,
     "metadata": {},
     "output_type": "execute_result"
    }
   ],
   "source": [
    "df2.head()"
   ]
  },
  {
   "cell_type": "code",
   "execution_count": 55,
   "id": "bb888193",
   "metadata": {},
   "outputs": [
    {
     "data": {
      "text/html": [
       "<div>\n",
       "<style scoped>\n",
       "    .dataframe tbody tr th:only-of-type {\n",
       "        vertical-align: middle;\n",
       "    }\n",
       "\n",
       "    .dataframe tbody tr th {\n",
       "        vertical-align: top;\n",
       "    }\n",
       "\n",
       "    .dataframe thead th {\n",
       "        text-align: right;\n",
       "    }\n",
       "</style>\n",
       "<table border=\"1\" class=\"dataframe\">\n",
       "  <thead>\n",
       "    <tr style=\"text-align: right;\">\n",
       "      <th></th>\n",
       "      <th>TransactionDetailID</th>\n",
       "      <th>ProductID</th>\n",
       "      <th>QtyOfProduct</th>\n",
       "      <th>PricePerSellableUnitAsMarked</th>\n",
       "      <th>TotalPrice</th>\n",
       "      <th>CouponDetailID</th>\n",
       "      <th>PricePerSellableUnitToTheCustomer</th>\n",
       "    </tr>\n",
       "  </thead>\n",
       "  <tbody>\n",
       "    <tr>\n",
       "      <th>count</th>\n",
       "      <td>3.524330e+05</td>\n",
       "      <td>352433.000000</td>\n",
       "      <td>352433.000000</td>\n",
       "      <td>352433.000000</td>\n",
       "      <td>352433.000000</td>\n",
       "      <td>352433.000000</td>\n",
       "      <td>352433.000000</td>\n",
       "    </tr>\n",
       "    <tr>\n",
       "      <th>mean</th>\n",
       "      <td>4.750921e+07</td>\n",
       "      <td>4083.501012</td>\n",
       "      <td>149.645771</td>\n",
       "      <td>360.546103</td>\n",
       "      <td>3565.459968</td>\n",
       "      <td>585.295069</td>\n",
       "      <td>359.762767</td>\n",
       "    </tr>\n",
       "    <tr>\n",
       "      <th>std</th>\n",
       "      <td>5.215561e+07</td>\n",
       "      <td>3387.573098</td>\n",
       "      <td>164.831521</td>\n",
       "      <td>598.740950</td>\n",
       "      <td>7894.158654</td>\n",
       "      <td>1032.356258</td>\n",
       "      <td>599.056324</td>\n",
       "    </tr>\n",
       "    <tr>\n",
       "      <th>min</th>\n",
       "      <td>3.600000e+01</td>\n",
       "      <td>2.000000</td>\n",
       "      <td>1.000000</td>\n",
       "      <td>0.240000</td>\n",
       "      <td>0.000000</td>\n",
       "      <td>0.000000</td>\n",
       "      <td>0.000000</td>\n",
       "    </tr>\n",
       "    <tr>\n",
       "      <th>25%</th>\n",
       "      <td>1.085388e+07</td>\n",
       "      <td>1134.000000</td>\n",
       "      <td>33.000000</td>\n",
       "      <td>39.600000</td>\n",
       "      <td>0.000000</td>\n",
       "      <td>0.000000</td>\n",
       "      <td>38.350000</td>\n",
       "    </tr>\n",
       "    <tr>\n",
       "      <th>50%</th>\n",
       "      <td>2.798655e+07</td>\n",
       "      <td>3573.000000</td>\n",
       "      <td>104.000000</td>\n",
       "      <td>124.930000</td>\n",
       "      <td>0.000000</td>\n",
       "      <td>0.000000</td>\n",
       "      <td>123.760000</td>\n",
       "    </tr>\n",
       "    <tr>\n",
       "      <th>75%</th>\n",
       "      <td>6.772515e+07</td>\n",
       "      <td>6048.000000</td>\n",
       "      <td>196.000000</td>\n",
       "      <td>217.510000</td>\n",
       "      <td>591.190000</td>\n",
       "      <td>946.000000</td>\n",
       "      <td>216.340000</td>\n",
       "    </tr>\n",
       "    <tr>\n",
       "      <th>max</th>\n",
       "      <td>5.811628e+08</td>\n",
       "      <td>29451.000000</td>\n",
       "      <td>4242.000000</td>\n",
       "      <td>3116.510000</td>\n",
       "      <td>43954.480000</td>\n",
       "      <td>12418.000000</td>\n",
       "      <td>3116.510000</td>\n",
       "    </tr>\n",
       "  </tbody>\n",
       "</table>\n",
       "</div>"
      ],
      "text/plain": [
       "       TransactionDetailID      ProductID   QtyOfProduct  \\\n",
       "count         3.524330e+05  352433.000000  352433.000000   \n",
       "mean          4.750921e+07    4083.501012     149.645771   \n",
       "std           5.215561e+07    3387.573098     164.831521   \n",
       "min           3.600000e+01       2.000000       1.000000   \n",
       "25%           1.085388e+07    1134.000000      33.000000   \n",
       "50%           2.798655e+07    3573.000000     104.000000   \n",
       "75%           6.772515e+07    6048.000000     196.000000   \n",
       "max           5.811628e+08   29451.000000    4242.000000   \n",
       "\n",
       "       PricePerSellableUnitAsMarked     TotalPrice  CouponDetailID  \\\n",
       "count                 352433.000000  352433.000000   352433.000000   \n",
       "mean                     360.546103    3565.459968      585.295069   \n",
       "std                      598.740950    7894.158654     1032.356258   \n",
       "min                        0.240000       0.000000        0.000000   \n",
       "25%                       39.600000       0.000000        0.000000   \n",
       "50%                      124.930000       0.000000        0.000000   \n",
       "75%                      217.510000     591.190000      946.000000   \n",
       "max                     3116.510000   43954.480000    12418.000000   \n",
       "\n",
       "       PricePerSellableUnitToTheCustomer  \n",
       "count                      352433.000000  \n",
       "mean                          359.762767  \n",
       "std                           599.056324  \n",
       "min                             0.000000  \n",
       "25%                            38.350000  \n",
       "50%                           123.760000  \n",
       "75%                           216.340000  \n",
       "max                          3116.510000  "
      ]
     },
     "execution_count": 55,
     "metadata": {},
     "output_type": "execute_result"
    }
   ],
   "source": [
    "df2.describe()"
   ]
  },
  {
   "cell_type": "code",
   "execution_count": 20,
   "id": "75fa3c95",
   "metadata": {},
   "outputs": [],
   "source": [
    "X = np.array(df2[['QtyOfProduct','PricePerSellableUnitToTheCustomer']])"
   ]
  },
  {
   "cell_type": "code",
   "execution_count": 21,
   "id": "276a0f29",
   "metadata": {},
   "outputs": [
    {
     "data": {
      "image/png": "[encoded data removed]",
      "text/plain": [
       "<Figure size 640x480 with 1 Axes>"
      ]
     },
     "metadata": {},
     "output_type": "display_data"
    },
    {
     "data": {
      "image/png": "[encoded data removed]",
      "text/plain": [
       "<Figure size 640x480 with 1 Axes>"
      ]
     },
     "metadata": {},
     "output_type": "display_data"
    }
   ],
   "source": [
    "To_plot=df2[['QtyOfProduct','PricePerSellableUnitToTheCustomer']]\n",
    "\n",
    "for i in To_plot:\n",
    "    plt.figure()\n",
    "    plt.title(label=i)\n",
    "    plt.hist(df2[i])\n",
    "    plt.show()"
   ]
  },
  {
   "cell_type": "code",
   "execution_count": 22,
   "id": "27e060ef",
   "metadata": {},
   "outputs": [
    {
     "data": {
      "text/html": [
       "<div>\n",
       "<style scoped>\n",
       "    .dataframe tbody tr th:only-of-type {\n",
       "        vertical-align: middle;\n",
       "    }\n",
       "\n",
       "    .dataframe tbody tr th {\n",
       "        vertical-align: top;\n",
       "    }\n",
       "\n",
       "    .dataframe thead th {\n",
       "        text-align: right;\n",
       "    }\n",
       "</style>\n",
       "<table border=\"1\" class=\"dataframe\">\n",
       "  <thead>\n",
       "    <tr style=\"text-align: right;\">\n",
       "      <th></th>\n",
       "      <th>QtyOfProduct</th>\n",
       "      <th>PricePerSellableUnitToTheCustomer</th>\n",
       "    </tr>\n",
       "    <tr>\n",
       "      <th>TransactionID</th>\n",
       "      <th></th>\n",
       "      <th></th>\n",
       "    </tr>\n",
       "  </thead>\n",
       "  <tbody>\n",
       "    <tr>\n",
       "      <th>1</th>\n",
       "      <td>17</td>\n",
       "      <td>58.93</td>\n",
       "    </tr>\n",
       "    <tr>\n",
       "      <th>2</th>\n",
       "      <td>121</td>\n",
       "      <td>92.01</td>\n",
       "    </tr>\n",
       "    <tr>\n",
       "      <th>3</th>\n",
       "      <td>257</td>\n",
       "      <td>234.11</td>\n",
       "    </tr>\n",
       "    <tr>\n",
       "      <th>4</th>\n",
       "      <td>167</td>\n",
       "      <td>191.10</td>\n",
       "    </tr>\n",
       "    <tr>\n",
       "      <th>5</th>\n",
       "      <td>100</td>\n",
       "      <td>156.26</td>\n",
       "    </tr>\n",
       "    <tr>\n",
       "      <th>...</th>\n",
       "      <td>...</td>\n",
       "      <td>...</td>\n",
       "    </tr>\n",
       "    <tr>\n",
       "      <th>354405</th>\n",
       "      <td>4</td>\n",
       "      <td>17.98</td>\n",
       "    </tr>\n",
       "    <tr>\n",
       "      <th>354406</th>\n",
       "      <td>124</td>\n",
       "      <td>117.80</td>\n",
       "    </tr>\n",
       "    <tr>\n",
       "      <th>354407</th>\n",
       "      <td>105</td>\n",
       "      <td>69.43</td>\n",
       "    </tr>\n",
       "    <tr>\n",
       "      <th>354408</th>\n",
       "      <td>195</td>\n",
       "      <td>178.79</td>\n",
       "    </tr>\n",
       "    <tr>\n",
       "      <th>354409</th>\n",
       "      <td>82</td>\n",
       "      <td>43.93</td>\n",
       "    </tr>\n",
       "  </tbody>\n",
       "</table>\n",
       "<p>352433 rows × 2 columns</p>\n",
       "</div>"
      ],
      "text/plain": [
       "               QtyOfProduct  PricePerSellableUnitToTheCustomer\n",
       "TransactionID                                                 \n",
       "1                        17                              58.93\n",
       "2                       121                              92.01\n",
       "3                       257                             234.11\n",
       "4                       167                             191.10\n",
       "5                       100                             156.26\n",
       "...                     ...                                ...\n",
       "354405                    4                              17.98\n",
       "354406                  124                             117.80\n",
       "354407                  105                              69.43\n",
       "354408                  195                             178.79\n",
       "354409                   82                              43.93\n",
       "\n",
       "[352433 rows x 2 columns]"
      ]
     },
     "execution_count": 22,
     "metadata": {},
     "output_type": "execute_result"
    }
   ],
   "source": [
    "df3=df2[['QtyOfProduct','PricePerSellableUnitToTheCustomer']].clip(lower = df2.quantile(0.01), upper = df2.quantile(0.99), axis = 1)\n",
    "df3"
   ]
  },
  {
   "cell_type": "code",
   "execution_count": 23,
   "id": "5ce2f4bd",
   "metadata": {},
   "outputs": [
    {
     "data": {
      "image/png": "[encoded data removed]",
      "text/plain": [
       "<Figure size 640x480 with 1 Axes>"
      ]
     },
     "metadata": {},
     "output_type": "display_data"
    },
    {
     "data": {
      "image/png": "[encoded data removed]",
      "text/plain": [
       "<Figure size 640x480 with 1 Axes>"
      ]
     },
     "metadata": {},
     "output_type": "display_data"
    }
   ],
   "source": [
    "To_plot=df3[['QtyOfProduct','PricePerSellableUnitToTheCustomer']]\n",
    "\n",
    "for i in To_plot:\n",
    "    plt.figure()\n",
    "    plt.title(label=i)\n",
    "    plt.hist(df3[i])\n",
    "    plt.show()"
   ]
  },
  {
   "cell_type": "code",
   "execution_count": 24,
   "id": "af633779",
   "metadata": {},
   "outputs": [],
   "source": [
    "X = np.array(df3[['QtyOfProduct','PricePerSellableUnitToTheCustomer']])"
   ]
  },
  {
   "cell_type": "code",
   "execution_count": 25,
   "id": "6ef3c3c1",
   "metadata": {},
   "outputs": [],
   "source": [
    "x_train, x_test = train_test_split(X, test_size = 0.2)"
   ]
  },
  {
   "cell_type": "code",
   "execution_count": 27,
   "id": "ebb0d5bc",
   "metadata": {},
   "outputs": [
    {
     "name": "stdout",
     "output_type": "stream",
     "text": [
      "For n_clusters = 3 The average silhouette_score is : 0.7837154651634778\n",
      "For n_clusters = 4 The average silhouette_score is : 0.7416698973333047\n",
      "For n_clusters = 5 The average silhouette_score is : 0.5420089163745605\n",
      "For n_clusters = 6 The average silhouette_score is : 0.5446089223872834\n"
     ]
    }
   ],
   "source": [
    "range_n_clusters = [3, 4, 5, 6]\n",
    "\n",
    "for i in range_n_clusters:\n",
    "    clusterer = KMeans(n_clusters = i, random_state=0)\n",
    "    cluster_labels = clusterer.fit_predict(x_test)\n",
    "    silhouette_avg = silhouette_score(x_test, cluster_labels)\n",
    "    print(\"For n_clusters =\", i, \"The average silhouette_score is :\", silhouette_avg)"
   ]
  },
  {
   "cell_type": "code",
   "execution_count": 28,
   "id": "c94d5e91",
   "metadata": {},
   "outputs": [],
   "source": [
    "kmeans = sklearn.cluster.KMeans(n_clusters = 3, random_state = 0)"
   ]
  },
  {
   "cell_type": "code",
   "execution_count": 31,
   "id": "8012a87b",
   "metadata": {},
   "outputs": [
    {
     "name": "stdout",
     "output_type": "stream",
     "text": [
      "[0 0 0 ... 0 0 0]\n"
     ]
    }
   ],
   "source": [
    "label = kmeans.fit_predict(x_test)\n",
    "print(label)"
   ]
  },
  {
   "cell_type": "code",
   "execution_count": 32,
   "id": "979f98c2",
   "metadata": {},
   "outputs": [],
   "source": [
    "filtered_label0 = x_test[label == 0]\n",
    "filtered_label1 = x_test[label == 1]\n",
    "filtered_label2 = x_test[label == 2]"
   ]
  },
  {
   "cell_type": "code",
   "execution_count": 33,
   "id": "8f033400",
   "metadata": {},
   "outputs": [
    {
     "data": {
      "text/plain": [
       "<matplotlib.collections.PathCollection at 0x1c9e3675850>"
      ]
     },
     "execution_count": 33,
     "metadata": {},
     "output_type": "execute_result"
    },
    {
     "data": {
      "image/png": "[encoded data removed]",
      "text/plain": [
       "<Figure size 640x480 with 1 Axes>"
      ]
     },
     "metadata": {},
     "output_type": "display_data"
    }
   ],
   "source": [
    "plt.scatter(filtered_label0[:,0] , filtered_label0[:,1], color='r')\n",
    "plt.scatter(filtered_label1[:,0] , filtered_label1[:,1], color='g')\n",
    "plt.scatter(filtered_label2[:,0] , filtered_label2[:,1], color='b')"
   ]
  },
  {
   "cell_type": "markdown",
   "id": "8185933d",
   "metadata": {},
   "source": [
    "## Type of transactions\n",
    "\n",
    "1. High Spend High Qty - Green - Price and quantity are well above average > Implies wholesale customers\n",
    "2. High Spend Medium to High Qty - Blue > Implies mid-scale retailers\n",
    "4. Low - Medium Spend Full scale Qty - Red >> Implies small scale retailers\n",
    "\n",
    "Qty Mean: 147.33\n",
    "Price Mean: 358.41"
   ]
  },
  {
   "cell_type": "markdown",
   "id": "47a610d3",
   "metadata": {},
   "source": [
    "# Supervised Learning\n",
    "## Product Price Prediction\n",
    "\n",
    "This supervised learning model is a regression model that aims to predict the price of a product based on its nutritional and calorific value. The model uses a supervised learning approach, which means that it learns from a labeled dataset where the input features (nutritional and calorific values) are associated with the corresponding output labels (product prices). Important independent variables are chosen based on market research and data quality."
   ]
  },
  {
   "cell_type": "code",
   "execution_count": 34,
   "id": "a2b5fee0",
   "metadata": {},
   "outputs": [
    {
     "data": {
      "text/html": [
       "<div>\n",
       "<style scoped>\n",
       "    .dataframe tbody tr th:only-of-type {\n",
       "        vertical-align: middle;\n",
       "    }\n",
       "\n",
       "    .dataframe tbody tr th {\n",
       "        vertical-align: top;\n",
       "    }\n",
       "\n",
       "    .dataframe thead th {\n",
       "        text-align: right;\n",
       "    }\n",
       "</style>\n",
       "<table border=\"1\" class=\"dataframe\">\n",
       "  <thead>\n",
       "    <tr style=\"text-align: right;\">\n",
       "      <th></th>\n",
       "      <th>ProductID</th>\n",
       "      <th>ManufacturerID</th>\n",
       "      <th>BrandID</th>\n",
       "      <th>InitialPricePerSellableUnit</th>\n",
       "      <th>NameID</th>\n",
       "      <th>ContainerID</th>\n",
       "      <th>Size</th>\n",
       "      <th>Size_UOMID</th>\n",
       "      <th>I_Size</th>\n",
       "      <th>I_UOMID</th>\n",
       "      <th>Serving_Size</th>\n",
       "      <th>Serving_Size_UOMID</th>\n",
       "      <th>I_Serving_Size</th>\n",
       "      <th>I-Serving_Size_UOMID</th>\n",
       "      <th>Servings_Per_Container</th>\n",
       "      <th>Calories</th>\n",
       "      <th>Total_Fat_G</th>\n",
       "      <th>Dvp_Total_Fat</th>\n",
       "      <th>Sodium_MG</th>\n",
       "      <th>Dvp_Sodium</th>\n",
       "      <th>Carbohydrates_G</th>\n",
       "      <th>Dvp_Carbohydrates</th>\n",
       "      <th>Sugars_G</th>\n",
       "      <th>Protein_G</th>\n",
       "      <th>Net_Carbs_G</th>\n",
       "      <th>Dvp_Calcium</th>\n",
       "      <th>Dvp_Vitamin_D</th>\n",
       "      <th>Dvp_Folic_Acid</th>\n",
       "      <th>Dvp_Phosphorus</th>\n",
       "      <th>Dvp_Iodine</th>\n",
       "      <th>Caffeine_Mg</th>\n",
       "    </tr>\n",
       "  </thead>\n",
       "  <tbody>\n",
       "    <tr>\n",
       "      <th>count</th>\n",
       "      <td>500.000000</td>\n",
       "      <td>500.00000</td>\n",
       "      <td>500.000000</td>\n",
       "      <td>500.000000</td>\n",
       "      <td>500.000000</td>\n",
       "      <td>500.000000</td>\n",
       "      <td>489.000000</td>\n",
       "      <td>487.000000</td>\n",
       "      <td>498.000000</td>\n",
       "      <td>2.000000</td>\n",
       "      <td>482.000000</td>\n",
       "      <td>451.000000</td>\n",
       "      <td>490.000000</td>\n",
       "      <td>491.000000</td>\n",
       "      <td>488.000000</td>\n",
       "      <td>490.000000</td>\n",
       "      <td>488.000000</td>\n",
       "      <td>486.000000</td>\n",
       "      <td>487.000000</td>\n",
       "      <td>487.000000</td>\n",
       "      <td>488.000000</td>\n",
       "      <td>487.000000</td>\n",
       "      <td>460.000000</td>\n",
       "      <td>486.000000</td>\n",
       "      <td>1.0</td>\n",
       "      <td>345.000000</td>\n",
       "      <td>42.000000</td>\n",
       "      <td>22.000000</td>\n",
       "      <td>72.000000</td>\n",
       "      <td>2.000000</td>\n",
       "      <td>10.000000</td>\n",
       "    </tr>\n",
       "    <tr>\n",
       "      <th>mean</th>\n",
       "      <td>253.014000</td>\n",
       "      <td>37.05600</td>\n",
       "      <td>94.228000</td>\n",
       "      <td>7.325020</td>\n",
       "      <td>38.692000</td>\n",
       "      <td>12.484000</td>\n",
       "      <td>23.320204</td>\n",
       "      <td>3.135524</td>\n",
       "      <td>284.903855</td>\n",
       "      <td>2.500000</td>\n",
       "      <td>4.592967</td>\n",
       "      <td>3.141907</td>\n",
       "      <td>130.019796</td>\n",
       "      <td>195.912424</td>\n",
       "      <td>12.150000</td>\n",
       "      <td>131.971429</td>\n",
       "      <td>4.156967</td>\n",
       "      <td>6.454733</td>\n",
       "      <td>251.548255</td>\n",
       "      <td>10.466119</td>\n",
       "      <td>19.430328</td>\n",
       "      <td>6.474333</td>\n",
       "      <td>10.604348</td>\n",
       "      <td>4.561728</td>\n",
       "      <td>12.0</td>\n",
       "      <td>5.855072</td>\n",
       "      <td>18.404762</td>\n",
       "      <td>38.045455</td>\n",
       "      <td>10.194444</td>\n",
       "      <td>42.500000</td>\n",
       "      <td>39.300000</td>\n",
       "    </tr>\n",
       "    <tr>\n",
       "      <th>std</th>\n",
       "      <td>145.180358</td>\n",
       "      <td>22.45398</td>\n",
       "      <td>52.663449</td>\n",
       "      <td>4.073307</td>\n",
       "      <td>25.030986</td>\n",
       "      <td>7.734947</td>\n",
       "      <td>53.994577</td>\n",
       "      <td>1.375158</td>\n",
       "      <td>252.840968</td>\n",
       "      <td>0.707107</td>\n",
       "      <td>3.913386</td>\n",
       "      <td>1.353939</td>\n",
       "      <td>115.992277</td>\n",
       "      <td>10.368834</td>\n",
       "      <td>63.917681</td>\n",
       "      <td>79.903695</td>\n",
       "      <td>4.869959</td>\n",
       "      <td>7.466973</td>\n",
       "      <td>274.750506</td>\n",
       "      <td>11.531598</td>\n",
       "      <td>14.195875</td>\n",
       "      <td>4.690291</td>\n",
       "      <td>12.397905</td>\n",
       "      <td>5.817083</td>\n",
       "      <td>NaN</td>\n",
       "      <td>7.951662</td>\n",
       "      <td>6.829132</td>\n",
       "      <td>28.249698</td>\n",
       "      <td>6.510314</td>\n",
       "      <td>3.535534</td>\n",
       "      <td>15.398773</td>\n",
       "    </tr>\n",
       "    <tr>\n",
       "      <th>min</th>\n",
       "      <td>2.000000</td>\n",
       "      <td>1.00000</td>\n",
       "      <td>1.000000</td>\n",
       "      <td>0.240000</td>\n",
       "      <td>1.000000</td>\n",
       "      <td>1.000000</td>\n",
       "      <td>0.110000</td>\n",
       "      <td>1.000000</td>\n",
       "      <td>0.500000</td>\n",
       "      <td>2.000000</td>\n",
       "      <td>0.310000</td>\n",
       "      <td>1.000000</td>\n",
       "      <td>0.500000</td>\n",
       "      <td>2.000000</td>\n",
       "      <td>1.000000</td>\n",
       "      <td>-5.000000</td>\n",
       "      <td>0.000000</td>\n",
       "      <td>0.000000</td>\n",
       "      <td>0.000000</td>\n",
       "      <td>-1.000000</td>\n",
       "      <td>-1.000000</td>\n",
       "      <td>-1.000000</td>\n",
       "      <td>-1.000000</td>\n",
       "      <td>-1.000000</td>\n",
       "      <td>12.0</td>\n",
       "      <td>0.000000</td>\n",
       "      <td>8.000000</td>\n",
       "      <td>0.000000</td>\n",
       "      <td>2.000000</td>\n",
       "      <td>40.000000</td>\n",
       "      <td>23.000000</td>\n",
       "    </tr>\n",
       "    <tr>\n",
       "      <th>25%</th>\n",
       "      <td>127.750000</td>\n",
       "      <td>18.00000</td>\n",
       "      <td>53.000000</td>\n",
       "      <td>3.580000</td>\n",
       "      <td>11.000000</td>\n",
       "      <td>3.000000</td>\n",
       "      <td>4.750000</td>\n",
       "      <td>1.000000</td>\n",
       "      <td>51.000000</td>\n",
       "      <td>2.250000</td>\n",
       "      <td>1.100000</td>\n",
       "      <td>1.000000</td>\n",
       "      <td>30.000000</td>\n",
       "      <td>188.000000</td>\n",
       "      <td>1.000000</td>\n",
       "      <td>80.000000</td>\n",
       "      <td>0.000000</td>\n",
       "      <td>0.000000</td>\n",
       "      <td>40.000000</td>\n",
       "      <td>2.000000</td>\n",
       "      <td>7.000000</td>\n",
       "      <td>2.000000</td>\n",
       "      <td>0.000000</td>\n",
       "      <td>0.000000</td>\n",
       "      <td>12.0</td>\n",
       "      <td>0.000000</td>\n",
       "      <td>10.000000</td>\n",
       "      <td>11.250000</td>\n",
       "      <td>4.000000</td>\n",
       "      <td>41.250000</td>\n",
       "      <td>34.000000</td>\n",
       "    </tr>\n",
       "    <tr>\n",
       "      <th>50%</th>\n",
       "      <td>252.500000</td>\n",
       "      <td>33.50000</td>\n",
       "      <td>94.000000</td>\n",
       "      <td>7.310000</td>\n",
       "      <td>43.000000</td>\n",
       "      <td>17.000000</td>\n",
       "      <td>12.000000</td>\n",
       "      <td>4.000000</td>\n",
       "      <td>252.500000</td>\n",
       "      <td>2.500000</td>\n",
       "      <td>2.500000</td>\n",
       "      <td>4.000000</td>\n",
       "      <td>64.000000</td>\n",
       "      <td>200.000000</td>\n",
       "      <td>3.750000</td>\n",
       "      <td>130.000000</td>\n",
       "      <td>2.500000</td>\n",
       "      <td>4.000000</td>\n",
       "      <td>150.000000</td>\n",
       "      <td>6.000000</td>\n",
       "      <td>18.000000</td>\n",
       "      <td>6.000000</td>\n",
       "      <td>5.000000</td>\n",
       "      <td>2.500000</td>\n",
       "      <td>12.0</td>\n",
       "      <td>4.000000</td>\n",
       "      <td>20.000000</td>\n",
       "      <td>34.000000</td>\n",
       "      <td>8.000000</td>\n",
       "      <td>42.500000</td>\n",
       "      <td>35.500000</td>\n",
       "    </tr>\n",
       "    <tr>\n",
       "      <th>75%</th>\n",
       "      <td>379.250000</td>\n",
       "      <td>54.00000</td>\n",
       "      <td>135.000000</td>\n",
       "      <td>10.497500</td>\n",
       "      <td>62.000000</td>\n",
       "      <td>18.000000</td>\n",
       "      <td>20.000000</td>\n",
       "      <td>4.000000</td>\n",
       "      <td>471.675000</td>\n",
       "      <td>2.750000</td>\n",
       "      <td>8.000000</td>\n",
       "      <td>4.000000</td>\n",
       "      <td>240.000000</td>\n",
       "      <td>200.000000</td>\n",
       "      <td>8.625000</td>\n",
       "      <td>180.000000</td>\n",
       "      <td>7.000000</td>\n",
       "      <td>11.000000</td>\n",
       "      <td>390.000000</td>\n",
       "      <td>16.000000</td>\n",
       "      <td>28.000000</td>\n",
       "      <td>9.000000</td>\n",
       "      <td>20.000000</td>\n",
       "      <td>6.000000</td>\n",
       "      <td>12.0</td>\n",
       "      <td>8.000000</td>\n",
       "      <td>25.000000</td>\n",
       "      <td>50.000000</td>\n",
       "      <td>15.000000</td>\n",
       "      <td>43.750000</td>\n",
       "      <td>37.500000</td>\n",
       "    </tr>\n",
       "    <tr>\n",
       "      <th>max</th>\n",
       "      <td>504.000000</td>\n",
       "      <td>86.00000</td>\n",
       "      <td>238.000000</td>\n",
       "      <td>15.330000</td>\n",
       "      <td>78.000000</td>\n",
       "      <td>30.000000</td>\n",
       "      <td>672.000000</td>\n",
       "      <td>6.000000</td>\n",
       "      <td>1244.000000</td>\n",
       "      <td>3.000000</td>\n",
       "      <td>23.700000</td>\n",
       "      <td>4.000000</td>\n",
       "      <td>700.000000</td>\n",
       "      <td>200.000000</td>\n",
       "      <td>1136.000000</td>\n",
       "      <td>430.000000</td>\n",
       "      <td>30.000000</td>\n",
       "      <td>46.000000</td>\n",
       "      <td>1390.000000</td>\n",
       "      <td>58.000000</td>\n",
       "      <td>75.000000</td>\n",
       "      <td>25.000000</td>\n",
       "      <td>48.000000</td>\n",
       "      <td>32.000000</td>\n",
       "      <td>12.0</td>\n",
       "      <td>35.000000</td>\n",
       "      <td>30.000000</td>\n",
       "      <td>100.000000</td>\n",
       "      <td>30.000000</td>\n",
       "      <td>45.000000</td>\n",
       "      <td>80.000000</td>\n",
       "    </tr>\n",
       "  </tbody>\n",
       "</table>\n",
       "</div>"
      ],
      "text/plain": [
       "        ProductID  ManufacturerID     BrandID  InitialPricePerSellableUnit  \\\n",
       "count  500.000000       500.00000  500.000000                   500.000000   \n",
       "mean   253.014000        37.05600   94.228000                     7.325020   \n",
       "std    145.180358        22.45398   52.663449                     4.073307   \n",
       "min      2.000000         1.00000    1.000000                     0.240000   \n",
       "25%    127.750000        18.00000   53.000000                     3.580000   \n",
       "50%    252.500000        33.50000   94.000000                     7.310000   \n",
       "75%    379.250000        54.00000  135.000000                    10.497500   \n",
       "max    504.000000        86.00000  238.000000                    15.330000   \n",
       "\n",
       "           NameID  ContainerID        Size  Size_UOMID       I_Size   I_UOMID  \\\n",
       "count  500.000000   500.000000  489.000000  487.000000   498.000000  2.000000   \n",
       "mean    38.692000    12.484000   23.320204    3.135524   284.903855  2.500000   \n",
       "std     25.030986     7.734947   53.994577    1.375158   252.840968  0.707107   \n",
       "min      1.000000     1.000000    0.110000    1.000000     0.500000  2.000000   \n",
       "25%     11.000000     3.000000    4.750000    1.000000    51.000000  2.250000   \n",
       "50%     43.000000    17.000000   12.000000    4.000000   252.500000  2.500000   \n",
       "75%     62.000000    18.000000   20.000000    4.000000   471.675000  2.750000   \n",
       "max     78.000000    30.000000  672.000000    6.000000  1244.000000  3.000000   \n",
       "\n",
       "       Serving_Size  Serving_Size_UOMID  I_Serving_Size  I-Serving_Size_UOMID  \\\n",
       "count    482.000000          451.000000      490.000000            491.000000   \n",
       "mean       4.592967            3.141907      130.019796            195.912424   \n",
       "std        3.913386            1.353939      115.992277             10.368834   \n",
       "min        0.310000            1.000000        0.500000              2.000000   \n",
       "25%        1.100000            1.000000       30.000000            188.000000   \n",
       "50%        2.500000            4.000000       64.000000            200.000000   \n",
       "75%        8.000000            4.000000      240.000000            200.000000   \n",
       "max       23.700000            4.000000      700.000000            200.000000   \n",
       "\n",
       "       Servings_Per_Container    Calories  Total_Fat_G  Dvp_Total_Fat  \\\n",
       "count              488.000000  490.000000   488.000000     486.000000   \n",
       "mean                12.150000  131.971429     4.156967       6.454733   \n",
       "std                 63.917681   79.903695     4.869959       7.466973   \n",
       "min                  1.000000   -5.000000     0.000000       0.000000   \n",
       "25%                  1.000000   80.000000     0.000000       0.000000   \n",
       "50%                  3.750000  130.000000     2.500000       4.000000   \n",
       "75%                  8.625000  180.000000     7.000000      11.000000   \n",
       "max               1136.000000  430.000000    30.000000      46.000000   \n",
       "\n",
       "         Sodium_MG  Dvp_Sodium  Carbohydrates_G  Dvp_Carbohydrates  \\\n",
       "count   487.000000  487.000000       488.000000         487.000000   \n",
       "mean    251.548255   10.466119        19.430328           6.474333   \n",
       "std     274.750506   11.531598        14.195875           4.690291   \n",
       "min       0.000000   -1.000000        -1.000000          -1.000000   \n",
       "25%      40.000000    2.000000         7.000000           2.000000   \n",
       "50%     150.000000    6.000000        18.000000           6.000000   \n",
       "75%     390.000000   16.000000        28.000000           9.000000   \n",
       "max    1390.000000   58.000000        75.000000          25.000000   \n",
       "\n",
       "         Sugars_G   Protein_G  Net_Carbs_G  Dvp_Calcium  Dvp_Vitamin_D  \\\n",
       "count  460.000000  486.000000          1.0   345.000000      42.000000   \n",
       "mean    10.604348    4.561728         12.0     5.855072      18.404762   \n",
       "std     12.397905    5.817083          NaN     7.951662       6.829132   \n",
       "min     -1.000000   -1.000000         12.0     0.000000       8.000000   \n",
       "25%      0.000000    0.000000         12.0     0.000000      10.000000   \n",
       "50%      5.000000    2.500000         12.0     4.000000      20.000000   \n",
       "75%     20.000000    6.000000         12.0     8.000000      25.000000   \n",
       "max     48.000000   32.000000         12.0    35.000000      30.000000   \n",
       "\n",
       "       Dvp_Folic_Acid  Dvp_Phosphorus  Dvp_Iodine  Caffeine_Mg  \n",
       "count       22.000000       72.000000    2.000000    10.000000  \n",
       "mean        38.045455       10.194444   42.500000    39.300000  \n",
       "std         28.249698        6.510314    3.535534    15.398773  \n",
       "min          0.000000        2.000000   40.000000    23.000000  \n",
       "25%         11.250000        4.000000   41.250000    34.000000  \n",
       "50%         34.000000        8.000000   42.500000    35.500000  \n",
       "75%         50.000000       15.000000   43.750000    37.500000  \n",
       "max        100.000000       30.000000   45.000000    80.000000  "
      ]
     },
     "execution_count": 34,
     "metadata": {},
     "output_type": "execute_result"
    }
   ],
   "source": [
    "Product.describe()"
   ]
  },
  {
   "cell_type": "code",
   "execution_count": 35,
   "id": "e0677fdc",
   "metadata": {},
   "outputs": [
    {
     "data": {
      "text/plain": [
       "ProductID                             0\n",
       "Status                                2\n",
       "UPC-E                                 2\n",
       "UPC-A                                 0\n",
       "ManufacturerID                        0\n",
       "BrandID                               0\n",
       "InitialPricePerSellableUnit           0\n",
       "NameID                                0\n",
       "Description                           0\n",
       "ContainerID                           0\n",
       "Size                                 11\n",
       "Size_UOMID                           13\n",
       "I_Size                                2\n",
       "I_UOMID                             498\n",
       "Parent                                2\n",
       "Count                                 2\n",
       "Endorsement(s)                        2\n",
       "Country                               1\n",
       "Prepared / Notes - Health Claims      2\n",
       "Serving_Size                         18\n",
       "Serving_Size_UOMID                   49\n",
       "I_Serving_Size                       10\n",
       "I-Serving_Size_UOM                    1\n",
       "I-Serving_Size_UOMID                  9\n",
       "Pieces                                2\n",
       "Servings_Per_Container               12\n",
       "Calories                             10\n",
       "Fat_Calories                          0\n",
       "Total_Fat_G                          12\n",
       "Dvp_Total_Fat                        14\n",
       "Saturated_Fat_G                       2\n",
       "Dvp_Saturated_Fat                     2\n",
       "Trans_Fat_G                           2\n",
       "Dvp_Trans_Fat                         2\n",
       "Polyunsaturated_Fat_G                 2\n",
       "Monounsaturated Fat_G                 2\n",
       "Cholesterol_MG                        2\n",
       "Dvp_Cholesterol                       2\n",
       "Sodium_MG                            13\n",
       "Dvp_Sodium                           13\n",
       "Potassium_MG                          2\n",
       "Dvp_Potassium                         2\n",
       "Carbohydrates_G                      12\n",
       "Dvp_Carbohydrates                    13\n",
       "Fiber_G                               2\n",
       "Dvp_Dietary_Fiber                     2\n",
       "Sugars_G                             40\n",
       "Dvp_Sugar                             2\n",
       "Other_Carbohydrates_G                 2\n",
       "Sugar Alcohols_G                      2\n",
       "Protein_G                            14\n",
       "Dvp_Protein                           2\n",
       "Net_Carbs_G                         499\n",
       "Ingredients                           0\n",
       "Warnings                              0\n",
       "Allergy Information                   2\n",
       "Dvp_Vitamin_A                         2\n",
       "Dvp_Vitamin_C                         2\n",
       "Dvp_Calcium                         155\n",
       "Dvp_Iron                              2\n",
       "Dvp_Vitamin_D                       458\n",
       "Dvp_Vitamin_E                         2\n",
       "Dvp_Vitamin_K                         2\n",
       "Dvp_Thiamin                           2\n",
       "Dvp_Riboflavin                        2\n",
       "Dvp_Niacin                            2\n",
       "Dvp_Vitamin_B1                        2\n",
       "Dvp_Vitamin_B2                      500\n",
       "Dvp_Vitamin_B6                        2\n",
       "Dvp_Folic_Acid                      478\n",
       "Dvp_Vitamin_B12                       2\n",
       "Dvp_Biotin                            2\n",
       "DVP_Pantothenic_Acid                  2\n",
       "Dvp_Phosphorus                      428\n",
       "Dvp_Iodine                          498\n",
       "Dvp_Magnesium                         2\n",
       "Dvp_Zinc                              2\n",
       "Dvp_Selenium                          2\n",
       "Dvp_Copper                            2\n",
       "Dvp_Manganese                         2\n",
       "Dvp_Chromium                          2\n",
       "Dvp_Molybdenum                        2\n",
       "Dvp_Vitamin_B3                        2\n",
       "Dvp_Vitamin_B5                        2\n",
       "Dvp_Folate                            2\n",
       "Soluble Fiber                         2\n",
       "Insoluble Fiber                       2\n",
       "Phosphate                             2\n",
       "Chloride                              2\n",
       "Caffeine_Mg                         490\n",
       "Silica                                2\n",
       "pH                                    2\n",
       "Bicarbonates                          2\n",
       "Total Dissolved Solids                2\n",
       "Omega 3                               2\n",
       "Oleic Acid                            2\n",
       "ProductImage                        500\n",
       "dtype: int64"
      ]
     },
     "execution_count": 35,
     "metadata": {},
     "output_type": "execute_result"
    }
   ],
   "source": [
    "Product.isnull().sum()"
   ]
  },
  {
   "cell_type": "code",
   "execution_count": 36,
   "id": "017fd8b7",
   "metadata": {},
   "outputs": [],
   "source": [
    "Product_valid = Product.loc[:, ['Size', 'Serving_Size', 'Calories', 'Sodium_MG', 'Total_Fat_G', 'Carbohydrates_G', 'Protein_G', 'InitialPricePerSellableUnit']]"
   ]
  },
  {
   "cell_type": "code",
   "execution_count": 37,
   "id": "d3a99123",
   "metadata": {},
   "outputs": [
    {
     "data": {
      "text/html": [
       "<div>\n",
       "<style scoped>\n",
       "    .dataframe tbody tr th:only-of-type {\n",
       "        vertical-align: middle;\n",
       "    }\n",
       "\n",
       "    .dataframe tbody tr th {\n",
       "        vertical-align: top;\n",
       "    }\n",
       "\n",
       "    .dataframe thead th {\n",
       "        text-align: right;\n",
       "    }\n",
       "</style>\n",
       "<table border=\"1\" class=\"dataframe\">\n",
       "  <thead>\n",
       "    <tr style=\"text-align: right;\">\n",
       "      <th></th>\n",
       "      <th>Size</th>\n",
       "      <th>Serving_Size</th>\n",
       "      <th>Calories</th>\n",
       "      <th>Sodium_MG</th>\n",
       "      <th>Total_Fat_G</th>\n",
       "      <th>Carbohydrates_G</th>\n",
       "      <th>Protein_G</th>\n",
       "      <th>InitialPricePerSellableUnit</th>\n",
       "    </tr>\n",
       "  </thead>\n",
       "  <tbody>\n",
       "    <tr>\n",
       "      <th>0</th>\n",
       "      <td>12.00</td>\n",
       "      <td>1.00</td>\n",
       "      <td>150.0</td>\n",
       "      <td>NaN</td>\n",
       "      <td>NaN</td>\n",
       "      <td>NaN</td>\n",
       "      <td>NaN</td>\n",
       "      <td>2.31</td>\n",
       "    </tr>\n",
       "    <tr>\n",
       "      <th>1</th>\n",
       "      <td>20.00</td>\n",
       "      <td>8.00</td>\n",
       "      <td>0.0</td>\n",
       "      <td>65.0</td>\n",
       "      <td>0.0</td>\n",
       "      <td>0.0</td>\n",
       "      <td>0.0</td>\n",
       "      <td>9.26</td>\n",
       "    </tr>\n",
       "    <tr>\n",
       "      <th>2</th>\n",
       "      <td>20.00</td>\n",
       "      <td>8.00</td>\n",
       "      <td>0.0</td>\n",
       "      <td>65.0</td>\n",
       "      <td>0.0</td>\n",
       "      <td>0.0</td>\n",
       "      <td>0.0</td>\n",
       "      <td>4.72</td>\n",
       "    </tr>\n",
       "    <tr>\n",
       "      <th>3</th>\n",
       "      <td>14.00</td>\n",
       "      <td>8.00</td>\n",
       "      <td>120.0</td>\n",
       "      <td>40.0</td>\n",
       "      <td>0.0</td>\n",
       "      <td>32.0</td>\n",
       "      <td>0.0</td>\n",
       "      <td>1.24</td>\n",
       "    </tr>\n",
       "    <tr>\n",
       "      <th>4</th>\n",
       "      <td>2.10</td>\n",
       "      <td>8.00</td>\n",
       "      <td>0.0</td>\n",
       "      <td>25.0</td>\n",
       "      <td>0.0</td>\n",
       "      <td>0.0</td>\n",
       "      <td>0.0</td>\n",
       "      <td>14.40</td>\n",
       "    </tr>\n",
       "    <tr>\n",
       "      <th>...</th>\n",
       "      <td>...</td>\n",
       "      <td>...</td>\n",
       "      <td>...</td>\n",
       "      <td>...</td>\n",
       "      <td>...</td>\n",
       "      <td>...</td>\n",
       "      <td>...</td>\n",
       "      <td>...</td>\n",
       "    </tr>\n",
       "    <tr>\n",
       "      <th>495</th>\n",
       "      <td>15.00</td>\n",
       "      <td>3.00</td>\n",
       "      <td>45.0</td>\n",
       "      <td>340.0</td>\n",
       "      <td>0.0</td>\n",
       "      <td>8.0</td>\n",
       "      <td>3.0</td>\n",
       "      <td>4.14</td>\n",
       "    </tr>\n",
       "    <tr>\n",
       "      <th>496</th>\n",
       "      <td>67.50</td>\n",
       "      <td>6.75</td>\n",
       "      <td>60.0</td>\n",
       "      <td>55.0</td>\n",
       "      <td>0.0</td>\n",
       "      <td>16.0</td>\n",
       "      <td>0.0</td>\n",
       "      <td>1.35</td>\n",
       "    </tr>\n",
       "    <tr>\n",
       "      <th>497</th>\n",
       "      <td>67.50</td>\n",
       "      <td>6.75</td>\n",
       "      <td>60.0</td>\n",
       "      <td>55.0</td>\n",
       "      <td>0.0</td>\n",
       "      <td>16.0</td>\n",
       "      <td>0.0</td>\n",
       "      <td>2.32</td>\n",
       "    </tr>\n",
       "    <tr>\n",
       "      <th>498</th>\n",
       "      <td>0.17</td>\n",
       "      <td>1.00</td>\n",
       "      <td>310.0</td>\n",
       "      <td>NaN</td>\n",
       "      <td>0.1</td>\n",
       "      <td>62.0</td>\n",
       "      <td>1.0</td>\n",
       "      <td>3.45</td>\n",
       "    </tr>\n",
       "    <tr>\n",
       "      <th>499</th>\n",
       "      <td>32.00</td>\n",
       "      <td>12.00</td>\n",
       "      <td>80.0</td>\n",
       "      <td>NaN</td>\n",
       "      <td>0.0</td>\n",
       "      <td>NaN</td>\n",
       "      <td>NaN</td>\n",
       "      <td>6.41</td>\n",
       "    </tr>\n",
       "  </tbody>\n",
       "</table>\n",
       "<p>500 rows × 8 columns</p>\n",
       "</div>"
      ],
      "text/plain": [
       "      Size  Serving_Size  Calories  Sodium_MG  Total_Fat_G  Carbohydrates_G  \\\n",
       "0    12.00          1.00     150.0        NaN          NaN              NaN   \n",
       "1    20.00          8.00       0.0       65.0          0.0              0.0   \n",
       "2    20.00          8.00       0.0       65.0          0.0              0.0   \n",
       "3    14.00          8.00     120.0       40.0          0.0             32.0   \n",
       "4     2.10          8.00       0.0       25.0          0.0              0.0   \n",
       "..     ...           ...       ...        ...          ...              ...   \n",
       "495  15.00          3.00      45.0      340.0          0.0              8.0   \n",
       "496  67.50          6.75      60.0       55.0          0.0             16.0   \n",
       "497  67.50          6.75      60.0       55.0          0.0             16.0   \n",
       "498   0.17          1.00     310.0        NaN          0.1             62.0   \n",
       "499  32.00         12.00      80.0        NaN          0.0              NaN   \n",
       "\n",
       "     Protein_G  InitialPricePerSellableUnit  \n",
       "0          NaN                         2.31  \n",
       "1          0.0                         9.26  \n",
       "2          0.0                         4.72  \n",
       "3          0.0                         1.24  \n",
       "4          0.0                        14.40  \n",
       "..         ...                          ...  \n",
       "495        3.0                         4.14  \n",
       "496        0.0                         1.35  \n",
       "497        0.0                         2.32  \n",
       "498        1.0                         3.45  \n",
       "499        NaN                         6.41  \n",
       "\n",
       "[500 rows x 8 columns]"
      ]
     },
     "execution_count": 37,
     "metadata": {},
     "output_type": "execute_result"
    }
   ],
   "source": [
    "Product_valid"
   ]
  },
  {
   "cell_type": "code",
   "execution_count": 38,
   "id": "15ef6efe",
   "metadata": {},
   "outputs": [],
   "source": [
    "Product_valid = Product_valid.fillna(0)"
   ]
  },
  {
   "cell_type": "code",
   "execution_count": 39,
   "id": "350663d5",
   "metadata": {},
   "outputs": [],
   "source": [
    "x = Product_valid.iloc[:,:-1]\n",
    "y = Product_valid.InitialPricePerSellableUnit"
   ]
  },
  {
   "cell_type": "code",
   "execution_count": 40,
   "id": "ec0fce69",
   "metadata": {},
   "outputs": [
    {
     "data": {
      "text/plain": [
       "(500, 7)"
      ]
     },
     "execution_count": 40,
     "metadata": {},
     "output_type": "execute_result"
    }
   ],
   "source": [
    "x.shape"
   ]
  },
  {
   "cell_type": "code",
   "execution_count": 41,
   "id": "683f27b2",
   "metadata": {},
   "outputs": [
    {
     "data": {
      "text/plain": [
       "(500,)"
      ]
     },
     "execution_count": 41,
     "metadata": {},
     "output_type": "execute_result"
    }
   ],
   "source": [
    "y.shape"
   ]
  },
  {
   "cell_type": "code",
   "execution_count": 42,
   "id": "30c5bbd3",
   "metadata": {},
   "outputs": [],
   "source": [
    "x_train, x_test, y_train, y_test = train_test_split(x, y, test_size = 0.2)"
   ]
  },
  {
   "cell_type": "code",
   "execution_count": 43,
   "id": "f139b9b5",
   "metadata": {},
   "outputs": [],
   "source": [
    "feature_label = x.columns"
   ]
  },
  {
   "cell_type": "code",
   "execution_count": 44,
   "id": "f1afc196",
   "metadata": {},
   "outputs": [
    {
     "data": {
      "text/plain": [
       "Index(['Size', 'Serving_Size', 'Calories', 'Sodium_MG', 'Total_Fat_G',\n",
       "       'Carbohydrates_G', 'Protein_G'],\n",
       "      dtype='object')"
      ]
     },
     "execution_count": 44,
     "metadata": {},
     "output_type": "execute_result"
    }
   ],
   "source": [
    "feature_label"
   ]
  },
  {
   "cell_type": "code",
   "execution_count": 45,
   "id": "7b1669f5",
   "metadata": {},
   "outputs": [
    {
     "data": {
      "text/plain": [
       "RandomForestRegressor(n_jobs=-1, random_state=0)"
      ]
     },
     "execution_count": 45,
     "metadata": {},
     "output_type": "execute_result"
    }
   ],
   "source": [
    "forest = RandomForestRegressor(n_estimators = 100, random_state = 0, n_jobs = -1)\n",
    "forest.fit(x_train,y_train)"
   ]
  },
  {
   "cell_type": "code",
   "execution_count": 46,
   "id": "351aa820",
   "metadata": {},
   "outputs": [],
   "source": [
    "feature_imp = forest.feature_importances_"
   ]
  },
  {
   "cell_type": "code",
   "execution_count": 47,
   "id": "dd369175",
   "metadata": {},
   "outputs": [
    {
     "data": {
      "text/plain": [
       "Size               0.222771\n",
       "Sodium_MG          0.215453\n",
       "Carbohydrates_G    0.183706\n",
       "Calories           0.143853\n",
       "Protein_G          0.081597\n",
       "Total_Fat_G        0.077750\n",
       "Serving_Size       0.074869\n",
       "dtype: float64"
      ]
     },
     "execution_count": 47,
     "metadata": {},
     "output_type": "execute_result"
    }
   ],
   "source": [
    "feature_scores = pd.Series(feature_imp, index=x_train.columns).sort_values(ascending=False)\n",
    "feature_scores"
   ]
  },
  {
   "cell_type": "code",
   "execution_count": 48,
   "id": "74921eb9",
   "metadata": {},
   "outputs": [],
   "source": [
    "std_scaler = StandardScaler()\n",
    "x_train_scaled = std_scaler.fit_transform(x_train)\n",
    "x_test_scaled = std_scaler.fit_transform(x_test)"
   ]
  },
  {
   "cell_type": "code",
   "execution_count": 49,
   "id": "9ab06b24",
   "metadata": {},
   "outputs": [
    {
     "data": {
      "text/plain": [
       "RandomForestRegressor(random_state=0)"
      ]
     },
     "execution_count": 49,
     "metadata": {},
     "output_type": "execute_result"
    }
   ],
   "source": [
    "forest = RandomForestRegressor(random_state = 0)\n",
    "forest.fit(x_train,y_train)"
   ]
  },
  {
   "cell_type": "code",
   "execution_count": 51,
   "id": "9e78226a-6157-4002-9bb9-df149bf75243",
   "metadata": {},
   "outputs": [],
   "source": [
    "y_pred = forest.predict(x_train)"
   ]
  },
  {
   "cell_type": "code",
   "execution_count": 52,
   "id": "c30c44da",
   "metadata": {},
   "outputs": [],
   "source": [
    "MSE = mean_squared_error(y_train, y_pred)\n",
    "r2 = r2_score(y_train, y_pred)\n",
    "MAE = mean_absolute_error(y_train, y_pred)"
   ]
  },
  {
   "cell_type": "code",
   "execution_count": 56,
   "id": "c6da297f",
   "metadata": {},
   "outputs": [
    {
     "data": {
      "text/html": [
       "<div>\n",
       "<style scoped>\n",
       "    .dataframe tbody tr th:only-of-type {\n",
       "        vertical-align: middle;\n",
       "    }\n",
       "\n",
       "    .dataframe tbody tr th {\n",
       "        vertical-align: top;\n",
       "    }\n",
       "\n",
       "    .dataframe thead th {\n",
       "        text-align: right;\n",
       "    }\n",
       "</style>\n",
       "<table border=\"1\" class=\"dataframe\">\n",
       "  <thead>\n",
       "    <tr style=\"text-align: right;\">\n",
       "      <th></th>\n",
       "      <th>Model</th>\n",
       "      <th>R2</th>\n",
       "    </tr>\n",
       "  </thead>\n",
       "  <tbody>\n",
       "    <tr>\n",
       "      <th>0</th>\n",
       "      <td>Random Forest Score</td>\n",
       "      <td>0.781383</td>\n",
       "    </tr>\n",
       "  </tbody>\n",
       "</table>\n",
       "</div>"
      ],
      "text/plain": [
       "                 Model        R2\n",
       "0  Random Forest Score  0.781383"
      ]
     },
     "execution_count": 56,
     "metadata": {},
     "output_type": "execute_result"
    }
   ],
   "source": [
    "RandomForestResults = pd.DataFrame([['Random Forest Score', r2]],\n",
    "                           columns = ['Model','R2'])\n",
    "RandomForestResults"
   ]
  },
  {
   "cell_type": "code",
   "execution_count": null,
   "id": "425ad11a",
   "metadata": {},
   "outputs": [],
   "source": []
  }
 ],
 "metadata": {
  "kernelspec": {
   "display_name": "Python 3 (ipykernel)",
   "language": "python",
   "name": "python3"
  },
  "language_info": {
   "codemirror_mode": {
    "name": "ipython",
    "version": 3
   },
   "file_extension": ".py",
   "mimetype": "text/x-python",
   "name": "python",
   "nbconvert_exporter": "python",
   "pygments_lexer": "ipython3",
   "version": "3.9.13"
  }
 },
 "nbformat": 4,
 "nbformat_minor": 5
}
