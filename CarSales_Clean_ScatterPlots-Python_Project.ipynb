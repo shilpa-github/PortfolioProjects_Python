{
 "cells": [
  {
   "cell_type": "markdown",
   "id": "6082bc2d-423e-4062-aa87-f31761ab78bd",
   "metadata": {},
   "source": [
    "checking if the csv exists and is readable"
   ]
  },
  {
   "cell_type": "code",
   "execution_count": 2,
   "id": "51b0f667-5da2-4148-8b28-0c7396cde5ad",
   "metadata": {},
   "outputs": [
    {
     "data": {
      "text/html": [
       "<div>\n",
       "<style scoped>\n",
       "    .dataframe tbody tr th:only-of-type {\n",
       "        vertical-align: middle;\n",
       "    }\n",
       "\n",
       "    .dataframe tbody tr th {\n",
       "        vertical-align: top;\n",
       "    }\n",
       "\n",
       "    .dataframe thead th {\n",
       "        text-align: right;\n",
       "    }\n",
       "</style>\n",
       "<table border=\"1\" class=\"dataframe\">\n",
       "  <thead>\n",
       "    <tr style=\"text-align: right;\">\n",
       "      <th></th>\n",
       "      <th>date of sale</th>\n",
       "      <th>sale price</th>\n",
       "      <th>sales tax</th>\n",
       "      <th>total miles</th>\n",
       "      <th>model</th>\n",
       "      <th>dealership</th>\n",
       "    </tr>\n",
       "  </thead>\n",
       "  <tbody>\n",
       "    <tr>\n",
       "      <th>0</th>\n",
       "      <td>1960-04-04</td>\n",
       "      <td>309665.73</td>\n",
       "      <td>13572.01</td>\n",
       "      <td>18</td>\n",
       "      <td>Spark</td>\n",
       "      <td>A1 Auto</td>\n",
       "    </tr>\n",
       "    <tr>\n",
       "      <th>1</th>\n",
       "      <td>1935-01-14</td>\n",
       "      <td>366732.42</td>\n",
       "      <td>10472.19</td>\n",
       "      <td>20</td>\n",
       "      <td>Corvette</td>\n",
       "      <td>Mike Murphy Car Lot</td>\n",
       "    </tr>\n",
       "    <tr>\n",
       "      <th>2</th>\n",
       "      <td>1918-04-08</td>\n",
       "      <td>Missing</td>\n",
       "      <td>6764.59</td>\n",
       "      <td>19</td>\n",
       "      <td>Monte Carlo</td>\n",
       "      <td>Indiana Hoosiers Car Sales</td>\n",
       "    </tr>\n",
       "    <tr>\n",
       "      <th>3</th>\n",
       "      <td>1996-04-19</td>\n",
       "      <td>176235.86</td>\n",
       "      <td>9456.98</td>\n",
       "      <td>22</td>\n",
       "      <td>Impala</td>\n",
       "      <td>A1 Auto</td>\n",
       "    </tr>\n",
       "    <tr>\n",
       "      <th>4</th>\n",
       "      <td>1913-09-30</td>\n",
       "      <td>224321.5</td>\n",
       "      <td>1391.01</td>\n",
       "      <td>22</td>\n",
       "      <td>Volt</td>\n",
       "      <td>Sam Smith Auto</td>\n",
       "    </tr>\n",
       "  </tbody>\n",
       "</table>\n",
       "</div>"
      ],
      "text/plain": [
       "  date of sale sale price sales tax total miles        model  \\\n",
       "0   1960-04-04  309665.73  13572.01          18        Spark   \n",
       "1   1935-01-14  366732.42  10472.19          20     Corvette   \n",
       "2   1918-04-08    Missing   6764.59          19  Monte Carlo   \n",
       "3   1996-04-19  176235.86   9456.98          22       Impala   \n",
       "4   1913-09-30   224321.5   1391.01          22         Volt   \n",
       "\n",
       "                   dealership  \n",
       "0                     A1 Auto  \n",
       "1         Mike Murphy Car Lot  \n",
       "2  Indiana Hoosiers Car Sales  \n",
       "3                     A1 Auto  \n",
       "4              Sam Smith Auto  "
      ]
     },
     "execution_count": 2,
     "metadata": {},
     "output_type": "execute_result"
    }
   ],
   "source": [
    "import pandas as pd\n",
    "import numpy as np\n",
    "import matplotlib.pyplot as plt\n",
    "df_CarSales=pd.read_csv(\"CarSales.csv\")\n",
    "df_CarSales.head()"
   ]
  },
  {
   "cell_type": "markdown",
   "id": "96224e61-ca83-498c-bea0-7f99ab8003ad",
   "metadata": {},
   "source": [
    "Checking total no of rows pre-cleaning"
   ]
  },
  {
   "cell_type": "code",
   "execution_count": 3,
   "id": "f41397b5-e407-4d3f-844d-9a5cb2be70bc",
   "metadata": {},
   "outputs": [
    {
     "name": "stdout",
     "output_type": "stream",
     "text": [
      "Number of rows in CarSales.csv file: 498\n"
     ]
    }
   ],
   "source": [
    "num_rows = len(df_CarSales.index)\n",
    "\n",
    "print(\"Number of rows in CarSales.csv file:\", num_rows)"
   ]
  },
  {
   "cell_type": "markdown",
   "id": "6e35431e-944e-421e-bf36-5e75def3fb64",
   "metadata": {},
   "source": [
    "check for missing values"
   ]
  },
  {
   "cell_type": "code",
   "execution_count": 4,
   "id": "53635a88-8c36-41e5-87e8-ab40c156f0cb",
   "metadata": {},
   "outputs": [
    {
     "name": "stdout",
     "output_type": "stream",
     "text": [
      "True\n"
     ]
    }
   ],
   "source": [
    "print(df_CarSales.isnull().values.any())"
   ]
  },
  {
   "cell_type": "code",
   "execution_count": 5,
   "id": "f096f6fe-f618-4c92-b4f4-0afbd6c9551a",
   "metadata": {},
   "outputs": [
    {
     "name": "stdout",
     "output_type": "stream",
     "text": [
      "date of sale    5\n",
      "sale price      2\n",
      "sales tax       1\n",
      "total miles     3\n",
      "model           3\n",
      "dealership      4\n",
      "dtype: int64\n"
     ]
    }
   ],
   "source": [
    "print(df_CarSales.isnull().sum())"
   ]
  },
  {
   "cell_type": "markdown",
   "id": "2f7158fa-37fe-4855-b880-d345c99be422",
   "metadata": {},
   "source": [
    "removing rows with missing values"
   ]
  },
  {
   "cell_type": "code",
   "execution_count": 6,
   "id": "75e38120-9068-40aa-ae61-34ac5704fbbf",
   "metadata": {},
   "outputs": [],
   "source": [
    "df_CarSales.dropna(inplace=True)"
   ]
  },
  {
   "cell_type": "markdown",
   "id": "9fd2879a-0c09-41e3-bb3d-641dddc9c21c",
   "metadata": {},
   "source": [
    "total no of rows post removing rows with missing values"
   ]
  },
  {
   "cell_type": "code",
   "execution_count": 7,
   "id": "16ae13e2-91da-4a21-9755-440301b97c73",
   "metadata": {},
   "outputs": [
    {
     "name": "stdout",
     "output_type": "stream",
     "text": [
      "Number of rows in CarSales.csv file: 480\n"
     ]
    }
   ],
   "source": [
    "num_rows = len(df_CarSales.index)\n",
    "\n",
    "print(\"Number of rows in CarSales.csv file:\", num_rows)"
   ]
  },
  {
   "cell_type": "code",
   "execution_count": 8,
   "id": "e047d006-8b9d-4161-b23f-6705a4562a86",
   "metadata": {},
   "outputs": [
    {
     "name": "stdout",
     "output_type": "stream",
     "text": [
      "False\n",
      "date of sale    0\n",
      "sale price      0\n",
      "sales tax       0\n",
      "total miles     0\n",
      "model           0\n",
      "dealership      0\n",
      "dtype: int64\n"
     ]
    }
   ],
   "source": [
    "print(df_CarSales.isnull().values.any())\n",
    "print(df_CarSales.isnull().sum())"
   ]
  },
  {
   "cell_type": "markdown",
   "id": "0b0a8902-fd9c-4ddc-b5e8-4d3de5ccd751",
   "metadata": {},
   "source": [
    "Removing duplicate rows, if any"
   ]
  },
  {
   "cell_type": "code",
   "execution_count": 9,
   "id": "6950ba14-4952-4e25-a85b-3e6f3de95e24",
   "metadata": {},
   "outputs": [],
   "source": [
    "df_CarSales.drop_duplicates(inplace=True)"
   ]
  },
  {
   "cell_type": "code",
   "execution_count": 10,
   "id": "290ab88d-3cb9-498a-868b-aa54d2dbf908",
   "metadata": {},
   "outputs": [
    {
     "name": "stdout",
     "output_type": "stream",
     "text": [
      "Number of rows in CarSales.csv file: 480\n"
     ]
    }
   ],
   "source": [
    "num_rows = len(df_CarSales.index)\n",
    "\n",
    "print(\"Number of rows in CarSales.csv file:\", num_rows)"
   ]
  },
  {
   "cell_type": "markdown",
   "id": "b90611fd-5922-4b09-b7cd-5eab7382b724",
   "metadata": {},
   "source": [
    "no duplicates found"
   ]
  },
  {
   "cell_type": "markdown",
   "id": "8c2b6d67-64c3-402a-aa7d-34384fef3b6b",
   "metadata": {},
   "source": [
    "replacing nans and nones with '0'"
   ]
  },
  {
   "cell_type": "code",
   "execution_count": 11,
   "id": "556005d0-e94e-48ea-b417-8c9a13bcfffb",
   "metadata": {},
   "outputs": [],
   "source": [
    "df_CarSales = df_CarSales.replace('Missing', 0)"
   ]
  },
  {
   "cell_type": "code",
   "execution_count": 12,
   "id": "863919ba-7278-47cc-94c9-9ba26cdd2526",
   "metadata": {},
   "outputs": [],
   "source": [
    "df_CarSales = df_CarSales.replace('nan', 0)"
   ]
  },
  {
   "cell_type": "code",
   "execution_count": 13,
   "id": "f5a80eb3-b03a-46ca-a5b4-f42177f9b13e",
   "metadata": {},
   "outputs": [],
   "source": [
    "df_CarSales = df_CarSales.replace('None', 0)"
   ]
  },
  {
   "cell_type": "code",
   "execution_count": 14,
   "id": "17ebecd6-605a-4ce3-bfcc-0a45e4164369",
   "metadata": {},
   "outputs": [
    {
     "data": {
      "text/html": [
       "<div>\n",
       "<style scoped>\n",
       "    .dataframe tbody tr th:only-of-type {\n",
       "        vertical-align: middle;\n",
       "    }\n",
       "\n",
       "    .dataframe tbody tr th {\n",
       "        vertical-align: top;\n",
       "    }\n",
       "\n",
       "    .dataframe thead th {\n",
       "        text-align: right;\n",
       "    }\n",
       "</style>\n",
       "<table border=\"1\" class=\"dataframe\">\n",
       "  <thead>\n",
       "    <tr style=\"text-align: right;\">\n",
       "      <th></th>\n",
       "      <th>date of sale</th>\n",
       "      <th>sale price</th>\n",
       "      <th>sales tax</th>\n",
       "      <th>total miles</th>\n",
       "      <th>model</th>\n",
       "      <th>dealership</th>\n",
       "    </tr>\n",
       "  </thead>\n",
       "  <tbody>\n",
       "    <tr>\n",
       "      <th>0</th>\n",
       "      <td>1960-04-04</td>\n",
       "      <td>309665.73</td>\n",
       "      <td>13572.01</td>\n",
       "      <td>18</td>\n",
       "      <td>Spark</td>\n",
       "      <td>A1 Auto</td>\n",
       "    </tr>\n",
       "    <tr>\n",
       "      <th>1</th>\n",
       "      <td>1935-01-14</td>\n",
       "      <td>366732.42</td>\n",
       "      <td>10472.19</td>\n",
       "      <td>20</td>\n",
       "      <td>Corvette</td>\n",
       "      <td>Mike Murphy Car Lot</td>\n",
       "    </tr>\n",
       "    <tr>\n",
       "      <th>2</th>\n",
       "      <td>1918-04-08</td>\n",
       "      <td>0</td>\n",
       "      <td>6764.59</td>\n",
       "      <td>19</td>\n",
       "      <td>Monte Carlo</td>\n",
       "      <td>Indiana Hoosiers Car Sales</td>\n",
       "    </tr>\n",
       "    <tr>\n",
       "      <th>3</th>\n",
       "      <td>1996-04-19</td>\n",
       "      <td>176235.86</td>\n",
       "      <td>9456.98</td>\n",
       "      <td>22</td>\n",
       "      <td>Impala</td>\n",
       "      <td>A1 Auto</td>\n",
       "    </tr>\n",
       "    <tr>\n",
       "      <th>4</th>\n",
       "      <td>1913-09-30</td>\n",
       "      <td>224321.5</td>\n",
       "      <td>1391.01</td>\n",
       "      <td>22</td>\n",
       "      <td>Volt</td>\n",
       "      <td>Sam Smith Auto</td>\n",
       "    </tr>\n",
       "  </tbody>\n",
       "</table>\n",
       "</div>"
      ],
      "text/plain": [
       "  date of sale sale price sales tax total miles        model  \\\n",
       "0   1960-04-04  309665.73  13572.01          18        Spark   \n",
       "1   1935-01-14  366732.42  10472.19          20     Corvette   \n",
       "2   1918-04-08          0   6764.59          19  Monte Carlo   \n",
       "3   1996-04-19  176235.86   9456.98          22       Impala   \n",
       "4   1913-09-30   224321.5   1391.01          22         Volt   \n",
       "\n",
       "                   dealership  \n",
       "0                     A1 Auto  \n",
       "1         Mike Murphy Car Lot  \n",
       "2  Indiana Hoosiers Car Sales  \n",
       "3                     A1 Auto  \n",
       "4              Sam Smith Auto  "
      ]
     },
     "execution_count": 14,
     "metadata": {},
     "output_type": "execute_result"
    }
   ],
   "source": [
    "df_CarSales.head()"
   ]
  },
  {
   "cell_type": "markdown",
   "id": "0dc37ab3-d5a3-4a8b-9826-20ff561a1800",
   "metadata": {},
   "source": [
    "Remove whitespace and other unwanted characters from column names:"
   ]
  },
  {
   "cell_type": "code",
   "execution_count": 15,
   "id": "f9f885d4-5522-41be-9af8-e7a5a5f57d15",
   "metadata": {},
   "outputs": [
    {
     "data": {
      "text/html": [
       "<div>\n",
       "<style scoped>\n",
       "    .dataframe tbody tr th:only-of-type {\n",
       "        vertical-align: middle;\n",
       "    }\n",
       "\n",
       "    .dataframe tbody tr th {\n",
       "        vertical-align: top;\n",
       "    }\n",
       "\n",
       "    .dataframe thead th {\n",
       "        text-align: right;\n",
       "    }\n",
       "</style>\n",
       "<table border=\"1\" class=\"dataframe\">\n",
       "  <thead>\n",
       "    <tr style=\"text-align: right;\">\n",
       "      <th></th>\n",
       "      <th>date_of_sale</th>\n",
       "      <th>sale_price</th>\n",
       "      <th>sales_tax</th>\n",
       "      <th>total_miles</th>\n",
       "      <th>model</th>\n",
       "      <th>dealership</th>\n",
       "    </tr>\n",
       "  </thead>\n",
       "  <tbody>\n",
       "    <tr>\n",
       "      <th>0</th>\n",
       "      <td>1960-04-04</td>\n",
       "      <td>309665.73</td>\n",
       "      <td>13572.01</td>\n",
       "      <td>18</td>\n",
       "      <td>Spark</td>\n",
       "      <td>A1 Auto</td>\n",
       "    </tr>\n",
       "    <tr>\n",
       "      <th>1</th>\n",
       "      <td>1935-01-14</td>\n",
       "      <td>366732.42</td>\n",
       "      <td>10472.19</td>\n",
       "      <td>20</td>\n",
       "      <td>Corvette</td>\n",
       "      <td>Mike Murphy Car Lot</td>\n",
       "    </tr>\n",
       "    <tr>\n",
       "      <th>2</th>\n",
       "      <td>1918-04-08</td>\n",
       "      <td>0</td>\n",
       "      <td>6764.59</td>\n",
       "      <td>19</td>\n",
       "      <td>Monte Carlo</td>\n",
       "      <td>Indiana Hoosiers Car Sales</td>\n",
       "    </tr>\n",
       "    <tr>\n",
       "      <th>3</th>\n",
       "      <td>1996-04-19</td>\n",
       "      <td>176235.86</td>\n",
       "      <td>9456.98</td>\n",
       "      <td>22</td>\n",
       "      <td>Impala</td>\n",
       "      <td>A1 Auto</td>\n",
       "    </tr>\n",
       "    <tr>\n",
       "      <th>4</th>\n",
       "      <td>1913-09-30</td>\n",
       "      <td>224321.5</td>\n",
       "      <td>1391.01</td>\n",
       "      <td>22</td>\n",
       "      <td>Volt</td>\n",
       "      <td>Sam Smith Auto</td>\n",
       "    </tr>\n",
       "  </tbody>\n",
       "</table>\n",
       "</div>"
      ],
      "text/plain": [
       "  date_of_sale sale_price sales_tax total_miles        model  \\\n",
       "0   1960-04-04  309665.73  13572.01          18        Spark   \n",
       "1   1935-01-14  366732.42  10472.19          20     Corvette   \n",
       "2   1918-04-08          0   6764.59          19  Monte Carlo   \n",
       "3   1996-04-19  176235.86   9456.98          22       Impala   \n",
       "4   1913-09-30   224321.5   1391.01          22         Volt   \n",
       "\n",
       "                   dealership  \n",
       "0                     A1 Auto  \n",
       "1         Mike Murphy Car Lot  \n",
       "2  Indiana Hoosiers Car Sales  \n",
       "3                     A1 Auto  \n",
       "4              Sam Smith Auto  "
      ]
     },
     "execution_count": 15,
     "metadata": {},
     "output_type": "execute_result"
    }
   ],
   "source": [
    "df_CarSales.columns = df_CarSales.columns.str.strip().str.replace(' ', '_').str.lower()\n",
    "df_CarSales.head()"
   ]
  },
  {
   "cell_type": "markdown",
   "id": "34658139-b96b-47f4-9dd9-45493d6d684e",
   "metadata": {},
   "source": [
    "Remove leading/trailing whitespace from all columns:"
   ]
  },
  {
   "cell_type": "code",
   "execution_count": 16,
   "id": "f99d4a96-56c2-4d57-be81-8f720654c55b",
   "metadata": {},
   "outputs": [],
   "source": [
    "df_CarSales = df_CarSales.applymap(lambda x: x.strip() if isinstance(x, str) else x)"
   ]
  },
  {
   "cell_type": "markdown",
   "id": "f91edbaa-a493-4cbb-9570-054c7f3d6018",
   "metadata": {},
   "source": [
    "saving cleaned df to a new df and downloading cleaned csv "
   ]
  },
  {
   "cell_type": "code",
   "execution_count": 17,
   "id": "0d5ee2a8-4e49-4543-9f88-9574de204fbc",
   "metadata": {},
   "outputs": [
    {
     "name": "stdout",
     "output_type": "stream",
     "text": [
      "  date_of_sale sale_price sales_tax total_miles        model  \\\n",
      "0   1960-04-04  309665.73  13572.01          18        Spark   \n",
      "1   1935-01-14  366732.42  10472.19          20     Corvette   \n",
      "2   1918-04-08          0   6764.59          19  Monte Carlo   \n",
      "3   1996-04-19  176235.86   9456.98          22       Impala   \n",
      "4   1913-09-30   224321.5   1391.01          22         Volt   \n",
      "\n",
      "                   dealership  \n",
      "0                     A1 Auto  \n",
      "1         Mike Murphy Car Lot  \n",
      "2  Indiana Hoosiers Car Sales  \n",
      "3                     A1 Auto  \n",
      "4              Sam Smith Auto  \n"
     ]
    }
   ],
   "source": [
    "\n",
    "df_CarSales_cleaned = df_CarSales.drop_duplicates()\n",
    "\n",
    "\n",
    "print(df_CarSales_cleaned.head())"
   ]
  },
  {
   "cell_type": "markdown",
   "id": "3caa549b-2e32-4bc0-a169-4d9a140f4609",
   "metadata": {},
   "source": [
    "total no of rows post cleaning"
   ]
  },
  {
   "cell_type": "code",
   "execution_count": 18,
   "id": "a833bc59-6c3c-43a3-8233-7f2727097527",
   "metadata": {},
   "outputs": [
    {
     "name": "stdout",
     "output_type": "stream",
     "text": [
      "Number of rows in df_CarSales.csv file: 480\n"
     ]
    }
   ],
   "source": [
    "num_rows = len(df_CarSales_cleaned.index)\n",
    "\n",
    "print(\"Number of rows in df_CarSales.csv file:\", num_rows)"
   ]
  },
  {
   "cell_type": "markdown",
   "id": "cc7cd635-022f-403c-87e4-e5c478c8f317",
   "metadata": {},
   "source": [
    "checking datatypes and changing datatype from object to float/int for plotting scatterplots"
   ]
  },
  {
   "cell_type": "code",
   "execution_count": 19,
   "id": "df962791-2ccc-4827-88de-a5a8abb184c5",
   "metadata": {},
   "outputs": [
    {
     "name": "stdout",
     "output_type": "stream",
     "text": [
      "date_of_sale    object\n",
      "sale_price      object\n",
      "sales_tax       object\n",
      "total_miles     object\n",
      "model           object\n",
      "dealership      object\n",
      "dtype: object\n"
     ]
    }
   ],
   "source": [
    "print(df_CarSales_cleaned.dtypes)"
   ]
  },
  {
   "cell_type": "code",
   "execution_count": 20,
   "id": "e6c33175-8ca4-4c53-886a-21dcf60f131a",
   "metadata": {},
   "outputs": [],
   "source": [
    "df_CarSales_cleaned.replace('', np.nan, inplace=True)\n",
    "\n",
    "df_CarSales_cleaned = df_CarSales.dropna()\n"
   ]
  },
  {
   "cell_type": "code",
   "execution_count": 21,
   "id": "71805e88-3068-4cb2-a9c4-631c05d4e1f2",
   "metadata": {},
   "outputs": [],
   "source": [
    "df_CarSales_cleaned.dropna(subset=['sale_price'], inplace=True)\n",
    "\n",
    "\n"
   ]
  },
  {
   "cell_type": "code",
   "execution_count": 22,
   "id": "d80908f4-e508-4964-8a34-5530bee1cfd3",
   "metadata": {},
   "outputs": [],
   "source": [
    "\n",
    "\n",
    "\n",
    "df_CarSales_cleaned['sale_price'] = df_CarSales_cleaned['sale_price'].replace('', np.nan)\n",
    "df_CarSales_cleaned['sale_price'] = df_CarSales_cleaned['sale_price'].astype(float)\n",
    "\n"
   ]
  },
  {
   "cell_type": "code",
   "execution_count": 23,
   "id": "38179ad8-7867-4e67-851a-3ef04c76ca4d",
   "metadata": {},
   "outputs": [],
   "source": [
    "df_CarSales_cleaned['sale_price'] = df_CarSales_cleaned['sale_price'].astype(float)"
   ]
  },
  {
   "cell_type": "code",
   "execution_count": 24,
   "id": "9c3f86b3-8c70-4f52-ab25-6cfe4a1efb0c",
   "metadata": {},
   "outputs": [],
   "source": [
    "\n",
    "\n",
    "df_CarSales_cleaned['sales_tax'] = df_CarSales_cleaned['sales_tax'].replace('', np.nan).astype(float)\n",
    "\n"
   ]
  },
  {
   "cell_type": "code",
   "execution_count": 25,
   "id": "ef5adf88-cd5a-4db6-afe4-bd6a5a94d8bd",
   "metadata": {},
   "outputs": [],
   "source": [
    "\n",
    "\n",
    "df_CarSales_cleaned['total_miles'] = df_CarSales_cleaned['total_miles'].replace('', np.nan).astype(float)\n",
    "\n"
   ]
  },
  {
   "cell_type": "code",
   "execution_count": 26,
   "id": "5f401cf2-5885-4560-bace-b5e03a016eeb",
   "metadata": {},
   "outputs": [
    {
     "name": "stdout",
     "output_type": "stream",
     "text": [
      "date_of_sale     object\n",
      "sale_price      float64\n",
      "sales_tax       float64\n",
      "total_miles     float64\n",
      "model            object\n",
      "dealership       object\n",
      "dtype: object\n"
     ]
    }
   ],
   "source": [
    "print(df_CarSales_cleaned.dtypes)"
   ]
  },
  {
   "cell_type": "markdown",
   "id": "951fa14e-9bcf-4278-bd89-4c6d27929626",
   "metadata": {},
   "source": [
    "mean and std dev :"
   ]
  },
  {
   "cell_type": "code",
   "execution_count": 27,
   "id": "222df76f-3e4e-438a-9115-d007bedc80c0",
   "metadata": {},
   "outputs": [
    {
     "name": "stdout",
     "output_type": "stream",
     "text": [
      "         sale_price    sales_tax  total_miles\n",
      "mean  212932.962213  6933.955987    19.427673\n",
      "std   108009.720589  4482.607707     5.493073\n"
     ]
    }
   ],
   "source": [
    "stats = df_CarSales_cleaned.describe().loc[['mean', 'std']]\n",
    "print(stats)"
   ]
  },
  {
   "cell_type": "code",
   "execution_count": 28,
   "id": "012e0a41-141b-49db-ae3a-fa29b5891632",
   "metadata": {},
   "outputs": [
    {
     "data": {
      "image/png": "[encoded data removed]",
      "text/plain": [
       "<Figure size 640x480 with 1 Axes>"
      ]
     },
     "metadata": {},
     "output_type": "display_data"
    }
   ],
   "source": [
    "plt.scatter(df_CarSales_cleaned['sale_price'], df_CarSales_cleaned['sales_tax'])\n",
    "\n",
    "plt.xlabel('sale_price')\n",
    "plt.ylabel('sales_tax')\n",
    "plt.title('Scatter Plot of sale_price vs. sales_tax')\n",
    "\n",
    "# show the plot\n",
    "plt.show()"
   ]
  },
  {
   "cell_type": "code",
   "execution_count": 29,
   "id": "55e14d17-dccd-4f31-88d7-065dba8f570d",
   "metadata": {},
   "outputs": [
    {
     "data": {
      "image/png": "[encoded data removed]",
      "text/plain": [
       "<Figure size 640x480 with 1 Axes>"
      ]
     },
     "metadata": {},
     "output_type": "display_data"
    }
   ],
   "source": [
    "plt.scatter(df_CarSales_cleaned['sale_price'], df_CarSales_cleaned['total_miles'])\n",
    "\n",
    "plt.xlabel('sale_price')\n",
    "plt.ylabel('total_miles')\n",
    "plt.title('Scatter Plot of sale_price vs. total_miles')\n",
    "\n",
    "# show the plot\n",
    "plt.show()"
   ]
  },
  {
   "cell_type": "code",
   "execution_count": 30,
   "id": "16eee20e-cd24-4b0c-afc5-3f0300c5131f",
   "metadata": {},
   "outputs": [
    {
     "data": {
      "image/png": "[encoded data removed]",
      "text/plain": [
       "<Figure size 640x480 with 1 Axes>"
      ]
     },
     "metadata": {},
     "output_type": "display_data"
    }
   ],
   "source": [
    "plt.scatter(df_CarSales_cleaned['sales_tax'], df_CarSales_cleaned['total_miles'])\n",
    "\n",
    "plt.xlabel('sales_tax')\n",
    "plt.ylabel('total_miles')\n",
    "plt.title('Scatter Plot of sales_tax vs. total_miles')\n",
    "\n",
    "# show the plot\n",
    "plt.show()"
   ]
  },
  {
   "cell_type": "markdown",
   "id": "988b3b2e-f5ba-409a-8019-90c7ac6b6e75",
   "metadata": {},
   "source": [
    "download cleaned dataframe as csv"
   ]
  },
  {
   "cell_type": "code",
   "execution_count": 31,
   "id": "6743bd5d-2ba1-4359-9908-ad958afeb605",
   "metadata": {},
   "outputs": [
    {
     "data": {
      "text/html": [
       "<a href='CarSalesFinal.csv' target='_blank'>CarSalesFinal.csv</a><br>"
      ],
      "text/plain": [
       "C:\\Users\\HP\\Music\\CarSalesFinal.csv"
      ]
     },
     "metadata": {},
     "output_type": "display_data"
    }
   ],
   "source": [
    "df_CarSales_cleaned.to_csv('CarSalesFinal.csv', index=False)\n",
    "from IPython.display import FileLink\n",
    "display(FileLink('CarSalesFinal.csv'))"
   ]
  },
  {
   "cell_type": "code",
   "execution_count": null,
   "id": "3e4fc0c4-04f2-4812-96ea-560ec6dc947a",
   "metadata": {},
   "outputs": [],
   "source": []
  }
 ],
 "metadata": {
  "kernelspec": {
   "display_name": "Python 3 (ipykernel)",
   "language": "python",
   "name": "python3"
  },
  "language_info": {
   "codemirror_mode": {
    "name": "ipython",
    "version": 3
   },
   "file_extension": ".py",
   "mimetype": "text/x-python",
   "name": "python",
   "nbconvert_exporter": "python",
   "pygments_lexer": "ipython3",
   "version": "3.9.13"
  }
 },
 "nbformat": 4,
 "nbformat_minor": 5
}
